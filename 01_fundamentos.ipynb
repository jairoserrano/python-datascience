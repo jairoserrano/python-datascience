{
 "cells": [
  {
   "cell_type": "markdown",
   "metadata": {
    "id": "UVoxolE3ZmmL"
   },
   "source": [
    "<img src=\"https://www.utb.edu.co/wp-content/uploads/2020/09/utb-logotipo.png\"/>"
   ]
  },
  {
   "cell_type": "markdown",
   "metadata": {
    "id": "uZ_xITjCZmmM"
   },
   "source": [
    "Python: Lenguaje de programación de proposito general, se usa para crear casi cualquier cosa web, escritorio, juegos. Es sencillo y facil de usar, lo que lo hace un gran lenguaje."
   ]
  },
  {
   "cell_type": "markdown",
   "metadata": {
    "id": "3bnGunVwZmmN"
   },
   "source": [
    "# Elementos"
   ]
  },
  {
   "cell_type": "markdown",
   "metadata": {
    "id": "dWdlPwVjZmmN"
   },
   "source": [
    "Para representar información o datos en el lenguaje, existe una sintaxis especificas (palabras reservadas) Por ejemplo:\n",
    "\n",
    "datos numericos, textuales, etc\n",
    "los textos los expresamos a traves de caracteres o cadenas\n",
    "los numeros se expresan como enteros o decimales\n",
    "De la misma forma podemos hacer uso de operadores matematicos, relacionales, logicos etc.\n",
    "\n",
    "Como?\n",
    "Especifica *titulo=* dato pero cada dato tendra su regla para poder identificarlo el lenguaje por ejemplo:"
   ]
  },
  {
   "cell_type": "code",
   "execution_count": 2,
   "metadata": {
    "id": "r9O-g-M1ZmmO"
   },
   "outputs": [],
   "source": [
    "nombre = \"Ana\"\n",
    "edad = 25\n",
    "letra = 'b'\n",
    "peso = 45.5\n",
    "valor = True\n",
    "PI = 3.1415"
   ]
  },
  {
   "cell_type": "markdown",
   "metadata": {
    "id": "K-pjXjRNZmmO"
   },
   "source": [
    "Esto que acabamos de hacer se le denomina declaración de variable. Siendo la variable ese espacio q almacena ese dato de cualquier tipo y que puede ser modificable. si el dato no se modifica lo podemos considerar como constante.\n",
    "\n",
    "El titulo q usted genera( ese nombre) tambien tiene una reglas por ejemplo se sugiere q sea descriptivo con lo q ud desarrolle. pero adicional no debe empezar con numero , no debe tener espacios en blancos, no tildes, ñ o caracteres especiales, no hacer uno de mayuscula ya q el lenguaje considera esto para uso de constantes. Sino pone a consideración esto le genera un error de sintaxis.\n",
    "\n",
    "Otra anotación para tener en cuenta es q hasta el momento no hace nada el programa entonces si queremos q muestre esa informacion usamos una funcion print"
   ]
  },
  {
   "cell_type": "code",
   "execution_count": 4,
   "metadata": {
    "colab": {
     "base_uri": "https://localhost:8080/"
    },
    "id": "VI8gJ2C3ZmmP",
    "outputId": "144e9e1d-f3de-4caf-f757-44201a4f0556"
   },
   "outputs": [
    {
     "name": "stdout",
     "output_type": "stream",
     "text": [
      "Ana\n",
      "25\n",
      "Ana 25 b 45.5 True\n",
      "lo q yo quiera: Ana Edad: 25 Letra: b 45.5 True\n"
     ]
    }
   ],
   "source": [
    "\"\"\"Y al utilizar los simbolos de triple comillas doble podemos expresar\n",
    "textos\n",
    "mas\n",
    "amplios.\n",
    "Sin q estos afecten el código\"\"\"\n",
    "print(nombre)\n",
    "print(edad)\n",
    "print(nombre, edad, letra, peso, valor) # kkkkk\n",
    "print(\"lo q yo quiera:\", nombre, \"Edad:\", edad, \"Letra:\", letra, peso, valor)\n"
   ]
  },
  {
   "cell_type": "code",
   "execution_count": null,
   "metadata": {
    "colab": {
     "base_uri": "https://localhost:8080/"
    },
    "id": "-Gq2qVafZmmQ",
    "outputId": "34bdd464-5f74-4cde-f10b-96f3d0e4f611"
   },
   "outputs": [],
   "source": [
    "nombre=\"Ana\"\n",
    "edad=25\n",
    "letra='b'\n",
    "peso=45.5\n",
    "valor=True\n",
    "\"\"\"\n",
    "Y al utilizar los simbolos de triple comillas doble podemos expresar\n",
    "textos\n",
    "mas\n",
    "amplios.\n",
    "Sin q estos afecten el código\n",
    "\"\"\"\n",
    "print(nombre)\n",
    "print(edad)\n",
    "print(nombre, edad, letra, peso, valor)#kkkkk\n",
    "print(\"lo q yo quiera:\",nombre,\"Edad: \", edad,\"Letra: \", letra, peso, valor)\n"
   ]
  },
  {
   "cell_type": "markdown",
   "metadata": {
    "id": "_Y5NFlA9ZmmR"
   },
   "source": [
    "### Datos Complejos"
   ]
  },
  {
   "cell_type": "markdown",
   "metadata": {
    "id": "Dese_Oz3ZmmR"
   },
   "source": [
    "Hemos manejado por cada variable o constante un solo dato, pero si deseamos mostrar varios; por decir una colección de información como lo hariamos? La solución esta en emplear datos complejos. Con estos nos referimos a la colección de datos de igual o distintos tipos.\n",
    "\n",
    "Python maneja como datos complejos los conceptos de Tuplas, Listas y Diccionarios\n",
    "\n",
    "Miremos las diferencia de estos datos complejos que no solo radica en su sintaxis. Ejemplos:"
   ]
  },
  {
   "cell_type": "code",
   "execution_count": null,
   "metadata": {
    "colab": {
     "base_uri": "https://localhost:8080/"
    },
    "id": "XW6Lpw1ZZmmS",
    "outputId": "316cbe93-c377-459a-fb32-4e43802efa0a"
   },
   "outputs": [],
   "source": [
    "conjunto_0 = (\"texto\", 20, 0.7, '+', True) # Las tuplas en la agrupación de sus datos utilizan parentesis\n",
    "conjunto_1 = {\"texto\", 20, 0.7, '+', True} # Las conjunto utilizan llaves\n",
    "\n",
    "\n",
    "\"\"\"Cabe destacar que para modificar uno o en general los datos agrupados entre listas y tuplas\n",
    "solo es posible en las listas\"\"\"\n",
    "\n",
    "#En relación a los diccionarios la sintaxis es la siguiente:\n",
    "conjunto_2 = {\"clave0\": \"Texto\", \"clave1\":0, \"clave2\":0.7, \"clave3\":'+', \"clave4\":True} # Maneja clave y valores\n",
    "print(conjunto_2)"
   ]
  },
  {
   "cell_type": "markdown",
   "metadata": {
    "id": "gd9k5gsZZmmS"
   },
   "source": [
    "\n",
    "### Entrada y Salida de datos"
   ]
  },
  {
   "cell_type": "markdown",
   "metadata": {
    "id": "OuU2_IZLZmmS"
   },
   "source": [
    "Para capturar un dato en python se debe tener en cuenta el tipo de dato q emplea. Es decir si es un dato entero, decimal, logico, cadena , etc. Dado esto, maneja la palabra reservada input para ello. Asi: titulo=tipodato(input(\"Texto\")). Ejemplo:"
   ]
  },
  {
   "cell_type": "code",
   "execution_count": null,
   "metadata": {
    "colab": {
     "base_uri": "https://localhost:8080/",
     "height": 373
    },
    "id": "429HUImNZmmT",
    "outputId": "024a0da4-3a36-4df1-e14a-22f4817cb90c"
   },
   "outputs": [],
   "source": [
    "nombre = input(\"Digite nombre completo: \")\n",
    "edad = int(input(\"Digite edad: \"))\n",
    "sueldo = float(input(\"Digite sueldo del mes: \"))\n",
    "dato = bool(input(\"Digite dato logico: \"))\n",
    "\n",
    "# Para que se imprima cada uno de estos datos de entrada se debe hacer uso de la función print\n",
    "print(nombre, \"texto lo q sea\", edad, '\\n', sueldo, \"-\", dato)\n",
    "print(nombre,edad,sueldo,dato)"
   ]
  },
  {
   "cell_type": "code",
   "execution_count": null,
   "metadata": {
    "colab": {
     "base_uri": "https://localhost:8080/"
    },
    "id": "s7hcY8M_ZmmT",
    "outputId": "234132a6-36c9-46dd-b207-3383ae7f6e0f"
   },
   "outputs": [],
   "source": [
    "ejemplo = input(\"\")\n",
    "\n",
    "print(ejemplo)"
   ]
  },
  {
   "cell_type": "markdown",
   "metadata": {
    "id": "eli7CqcGZmmT"
   },
   "source": [
    "### Operadores: Aritmeticos, Relacionales, Logicos"
   ]
  },
  {
   "cell_type": "markdown",
   "metadata": {
    "id": "pEV7qC_BZmmT"
   },
   "source": [
    "Para emplear operadores matematicos simples; solo basta hacer uso de los mismo. Es decir emplear + para suma, - para resta, * para multiplicación, / para divisón y % para modulo. Tambien se puede emplear la divión entera utilizando doble slash // o\n",
    "importar al lenguaje operadores mas complejos como son potencia o raiz cuadrada. Ejemplo:"
   ]
  },
  {
   "cell_type": "code",
   "execution_count": 5,
   "metadata": {
    "colab": {
     "base_uri": "https://localhost:8080/"
    },
    "id": "oGRlP1iiZmmU",
    "outputId": "476dca70-7e91-4d48-9321-35ba11196168"
   },
   "outputs": [
    {
     "name": "stdout",
     "output_type": "stream",
     "text": [
      "//= 2\n",
      "%= 1\n",
      " 7 \n",
      " 3 \n",
      " 10 \n",
      " 2.5 \n",
      " 2 \n",
      " 1\n",
      "7 3 10 1\n",
      "3\n",
      "Este es un ejemplo en donde aplicaremos difrentes secuencias: \n",
      " Tabulador. Nos da un espaciado \t entre textos\n",
      "Para este parrafo haremos uso de comillas 'simples ' y \"dobles\" o la muestra del uso del slash\\\n",
      "2.8284271247461903\n"
     ]
    }
   ],
   "source": [
    "#Empleados variables numericas para desarrollar operaciones matematicas simples\n",
    "\n",
    "a = 5\n",
    "b = 2\n",
    "c = a + b\n",
    "d = a - b\n",
    "e = a * b\n",
    "f = a / b\n",
    "g = a // b\n",
    "print(\"//=\", g)\n",
    "h = a % b\n",
    "print(\"%=\", h)\n",
    "print('', c, '\\n', d, '\\n', e, '\\n', f, '\\n', g, '\\n', h)\n",
    "print(c, d, e, h)\n",
    "# Empleando en la función de impresión los operadores\n",
    "print(( 2 + 1) // ((2 - 1) % (2 * 1)))\n",
    "\"\"\"Anotación: En este código adicional empleamos \\n ente comillas simple. Este es un ejemplo de uso de\n",
    "secuencias de escape. Que son simbolos que empleamos cuando deseamos hacer uso en el código de saltos de\n",
    "lineas (\\n), tabulador (\\t), incluso el uso de comillas simples (\\'), comillas dobles (\\\"), slash(\\\\) q no\n",
    "interpretados por el lenguaje\"\"\"\n",
    "\n",
    "#USo de Secuencias de Escapes\n",
    "print(\"Este es un ejemplo en donde aplicaremos difrentes secuencias: \\n\",\"Tabulador. Nos da un espaciado \\t entre textos\")\n",
    "print(\"Para este parrafo haremos uso de comillas \\'simples \\' y \\\"dobles\\\"\", \"o la muestra del uso del slash\\\\\")\n",
    "\n",
    "#Ejemplo de importanción para operadores mas complejos\n",
    "from math import sqrt\n",
    "i = 8\n",
    "print(sqrt(i))"
   ]
  },
  {
   "cell_type": "markdown",
   "metadata": {
    "id": "jdb_ItO2ZmmU"
   },
   "source": [
    "Con los operadores relacionales podemos hacer uso de:\n",
    "\n",
    "|Simbolos|Significado |\n",
    "|---------|-----------|\n",
    "| <       |Menor que  |\n",
    "| >       |Mayor que  |\n",
    "| <=      |Menor igual|\n",
    "| >=      |Mayor igual|\n",
    "| ==      |Igualdad   |\n",
    "| =!      |Diferencia |\n",
    "\n",
    "Al igual que con los operadores Logicos podemos emplear:\n",
    "\n",
    "|Simbolos|Significado |\n",
    "|---------|-----------|\n",
    "|   and   |     y     |   \n",
    "|    or   |     o     |\n",
    "\n",
    "Ejemplos:\n",
    "\n"
   ]
  },
  {
   "cell_type": "code",
   "execution_count": null,
   "metadata": {
    "colab": {
     "base_uri": "https://localhost:8080/"
    },
    "id": "xsKoTf7tZmmU",
    "outputId": "d1b084f0-a57c-45c9-86b8-e3bc71834494"
   },
   "outputs": [],
   "source": [
    "dato0 = True\n",
    "dato1 = False\n",
    "\n",
    "print(dato0 == dato1)\n",
    "print(dato0 != dato1)\n",
    "\n",
    "dato2=(dato1 and dato1) #aplicando regla ( tabla de verdad) de la conjunción.\n",
    "print(dato2)\n"
   ]
  },
  {
   "cell_type": "markdown",
   "metadata": {
    "id": "iR_HdEUTZmmV"
   },
   "source": [
    "# Estructuras\n",
    "## Secuenciales - Selectivas - Repetitivas"
   ]
  },
  {
   "cell_type": "markdown",
   "metadata": {
    "id": "6kYQSM6sZmmV"
   },
   "source": [
    "Con los anteriores conceptos y sintaxis empleados podemos decir que los programas que por el momento podemos desarrollar son aquellos que manejan una estructura secuencial. Es decir, una acción o sentencia depende de o sigue a  otra en secuencia y asi sucesivamente hasta el fin del proceso. Pero existen programa que dependen de una **condicion** para que siga su desarrollo. Y esta condición puede ser relacional o logica, por decir:"
   ]
  },
  {
   "cell_type": "code",
   "execution_count": 6,
   "metadata": {
    "colab": {
     "base_uri": "https://localhost:8080/"
    },
    "id": "M73P_Vg-ZmmV",
    "outputId": "6455195e-811e-47ef-9f9a-fbd628007a6c"
   },
   "outputs": [],
   "source": [
    "\"\"\"Suponga un programa que solicite la edad de una persona y si esta es mayor de 18 años le permite\n",
    "prestar un libro en una biblioteca\"\"\"\n",
    "\n",
    "edad=(int(input(\"Digiete su edad: \")))\n",
    "if edad >= 18:\n",
    "    print(\"Adelante con el prestamo de su libro!!!\")"
   ]
  },
  {
   "cell_type": "code",
   "execution_count": 7,
   "metadata": {
    "colab": {
     "base_uri": "https://localhost:8080/"
    },
    "id": "4GMXPQ4XZmmW",
    "outputId": "dc3b6d03-69a3-4864-b7d1-2d3d51e14f42"
   },
   "outputs": [
    {
     "name": "stdout",
     "output_type": "stream",
     "text": [
      "No le presto: \n"
     ]
    }
   ],
   "source": [
    "edad=(int(input(\"Digiete su edad: \")))\n",
    "if edad >= 18:\n",
    "    print(\"Adelante con el prestamo de su libro!!!\")\n",
    "else:\n",
    "    print(\"No le presto: \")"
   ]
  },
  {
   "cell_type": "markdown",
   "metadata": {
    "id": "dgn9c18QZmmW"
   },
   "source": [
    "y Puede existir mas de una condición por lo que la estructura se hara mas compleja y para ello\n",
    "seguimos implementando la palabra reservada if acompañado de esa expresión condicional inicial,\n",
    "del uso de los dos puntos como simbolo dada la condición.Y al contener la estructura mas de una condición emplear la palabra reservada else if o elif mas la condición mas los dos puntos. Por ejemplo:"
   ]
  },
  {
   "cell_type": "code",
   "execution_count": 8,
   "metadata": {
    "colab": {
     "base_uri": "https://localhost:8080/"
    },
    "id": "RJer4hQyZmmW",
    "outputId": "3212a6e2-2f75-46a0-9fe0-1edf0c20b5e9"
   },
   "outputs": [
    {
     "name": "stdout",
     "output_type": "stream",
     "text": [
      "Por tu edad puedes tener acceso a libros infantiles y de fantasia \n"
     ]
    }
   ],
   "source": [
    "\n",
    "edad=(int(input(\"Digiete su edad: \")))\n",
    "if edad >= 18:\n",
    "    print(\"Adelante con el prestamo de su libro!!!\")\n",
    "else:\n",
    "    if edad < 15:\n",
    "        print(\"Solo puedes tener acceso a libros infantiles\")\n",
    "    else:\n",
    "        print(\"Por tu edad puedes tener acceso a libros infantiles y de fantasia \")"
   ]
  },
  {
   "cell_type": "code",
   "execution_count": 9,
   "metadata": {
    "colab": {
     "base_uri": "https://localhost:8080/"
    },
    "id": "4niuSGLcZmmW",
    "outputId": "ac776a01-23ae-4163-8d86-e4f0d6ba7839"
   },
   "outputs": [
    {
     "name": "stdout",
     "output_type": "stream",
     "text": [
      "Solo puedes tener acceso a libros infantiles\n"
     ]
    }
   ],
   "source": [
    "\n",
    "edad=(int(input(\"Digiete su edad: \")))\n",
    "if edad >= 18:\n",
    "    print(\"Adelante con el prestamo de su libro!!!\")\n",
    "elif edad < 15:\n",
    "    print(\"Solo puedes tener acceso a libros infantiles\")\n",
    "else:\n",
    "    print(\"Por tu edad puedes tener acceso a libros infantiles y de fantasia \")"
   ]
  }
 ],
 "metadata": {
  "colab": {
   "provenance": []
  },
  "kernelspec": {
   "display_name": "Python 3",
   "language": "python",
   "name": "python3"
  },
  "language_info": {
   "codemirror_mode": {
    "name": "ipython",
    "version": 3
   },
   "file_extension": ".py",
   "mimetype": "text/x-python",
   "name": "python",
   "nbconvert_exporter": "python",
   "pygments_lexer": "ipython3",
   "version": "3.9.6"
  }
 },
 "nbformat": 4,
 "nbformat_minor": 4
}
