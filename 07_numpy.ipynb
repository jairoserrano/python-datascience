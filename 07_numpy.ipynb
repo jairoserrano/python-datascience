{
 "cells": [
  {
   "cell_type": "markdown",
   "id": "ca45228e-01fa-4868-8437-ab7d5fc2f0b9",
   "metadata": {},
   "source": [
    "<img src=\"https://www.utb.edu.co/wp-content/uploads/2020/09/utb-logotipo.png\"/>"
   ]
  },
  {
   "cell_type": "markdown",
   "id": "bd1cf054-0ce2-4fa4-aa6f-fdd1e6472f57",
   "metadata": {},
   "source": [
    "# Numpy\n",
    "Numpy es una biblioteca que proporciona soporte para arrays y matrices multidimensionales, junto con una colección de funciones matemáticas para operar con estos arrays."
   ]
  },
  {
   "cell_type": "markdown",
   "id": "366f4b53-1f25-4577-be29-04ed0512471a",
   "metadata": {},
   "source": [
    "## Importar Numpy"
   ]
  },
  {
   "cell_type": "code",
   "execution_count": null,
   "id": "2fae430d-fd17-4e9e-b9c8-84c06220846b",
   "metadata": {},
   "outputs": [],
   "source": [
    "import numpy as np"
   ]
  },
  {
   "cell_type": "code",
   "execution_count": null,
   "id": "9417cd30-7028-4c02-940a-439ae4707267",
   "metadata": {},
   "outputs": [],
   "source": [
    "# Crear un array unidimensional\n",
    "array_1d = np.array([1, 2, 3, 4, 5])\n",
    "print(array_1d)"
   ]
  },
  {
   "cell_type": "code",
   "execution_count": null,
   "id": "96b15f73-a2e9-422c-9c37-a8bf425742e6",
   "metadata": {},
   "outputs": [],
   "source": [
    "# Crear un array bidimensional\n",
    "array_2d = np.array([[1, 2, 3], [4, 5, 6]])\n",
    "print(array_2d)"
   ]
  },
  {
   "cell_type": "code",
   "execution_count": null,
   "id": "35b6622c-49ce-4448-8bbd-7390c4008735",
   "metadata": {},
   "outputs": [],
   "source": [
    "# Propiedades de un array\n",
    "print(array_2d.shape)  # Dimensiones del array\n",
    "print(array_2d.size)   # Número total de elementos\n",
    "print(array_2d.ndim)   # Número de dimensiones\n",
    "print(array_2d.dtype)  # Tipo de dato de los elementos"
   ]
  },
  {
   "cell_type": "code",
   "execution_count": null,
   "id": "2f97dc5f-20d0-409a-8b62-a00c24f5eaea",
   "metadata": {},
   "outputs": [],
   "source": [
    "# Operaciones aritméticas\n",
    "a = np.array([1, 2, 3])\n",
    "b = np.array([4, 5, 6])\n",
    "\n",
    "print(a + b)  # Suma\n",
    "print(a - b)  # Resta\n",
    "print(a * b)  # Multiplicación\n",
    "print(a / b)  # División"
   ]
  },
  {
   "cell_type": "code",
   "execution_count": null,
   "id": "eae6345f-8622-49e5-9e58-f86c00ee6d16",
   "metadata": {},
   "outputs": [],
   "source": [
    "# Funciones universales (ufuncs)\n",
    "print(np.sqrt(a))  # Raíz cuadrada\n",
    "print(np.exp(a))   # Exponencial\n",
    "print(np.sin(a))   # Seno"
   ]
  },
  {
   "cell_type": "code",
   "execution_count": null,
   "id": "b620e8b9-4c6e-4988-8e9e-8f5a54ca0359",
   "metadata": {},
   "outputs": [],
   "source": [
    "# Indexación y slicing\n",
    "array = np.array([1, 2, 3, 4, 5, 6, 7, 8, 9, 10])\n",
    "\n",
    "print(array[0])    # Primer elemento\n",
    "print(array[-1])   # Último elemento\n",
    "print(array[2:5])  # Elementos desde el índice 2 hasta el 4\n",
    "print(array[:5])   # Elementos desde el inicio hasta el índice 4\n",
    "print(array[5:])   # Elementos desde el índice 5 hasta el final"
   ]
  },
  {
   "cell_type": "code",
   "execution_count": null,
   "id": "ece90897-ec00-4421-afef-2621d9c39d51",
   "metadata": {},
   "outputs": [],
   "source": [
    "# Cambio de forma (reshape)\n",
    "array_reshaped = array.reshape((2, 5))\n",
    "print(array_reshaped)\n",
    "\n",
    "# Concatenación\n",
    "array_a = np.array([1, 2, 3])\n",
    "array_b = np.array([4, 5, 6])\n",
    "array_concat = np.concatenate((array_a, array_b))\n",
    "print(array_concat)"
   ]
  },
  {
   "cell_type": "code",
   "execution_count": null,
   "id": "0568d0ab-9260-4a06-a576-646ce44c02fe",
   "metadata": {},
   "outputs": [],
   "source": [
    "# Arrays de ceros y unos\n",
    "print(np.zeros((3, 3)))  # Array 3x3 de ceros\n",
    "print(np.ones((2, 4)))   # Array 2x4 de unos\n",
    "\n",
    "# Array de números aleatorios\n",
    "print(np.random.random((3, 3)))  # Array 3x3 de números aleatorios entre 0 y 1"
   ]
  }
 ],
 "metadata": {
  "kernelspec": {
   "display_name": "Python 3 (ipykernel)",
   "language": "python",
   "name": "python3"
  },
  "language_info": {
   "codemirror_mode": {
    "name": "ipython",
    "version": 3
   },
   "file_extension": ".py",
   "mimetype": "text/x-python",
   "name": "python",
   "nbconvert_exporter": "python",
   "pygments_lexer": "ipython3",
   "version": "3.11.7"
  }
 },
 "nbformat": 4,
 "nbformat_minor": 5
}
