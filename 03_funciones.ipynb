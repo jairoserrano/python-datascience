{
 "cells": [
  {
   "cell_type": "markdown",
   "metadata": {},
   "source": [
    "<img src=\"https://www.utb.edu.co/wp-content/uploads/2020/09/utb-logotipo.png\"/>"
   ]
  },
  {
   "cell_type": "markdown",
   "metadata": {
    "id": "J6uUqNetnQTj"
   },
   "source": [
    "# Reto, entendiendo funciones en Python\n",
    "Analiza, Actualiza, Documenta y Ejecuta el siguiente código"
   ]
  },
  {
   "cell_type": "code",
   "execution_count": 9,
   "metadata": {
    "id": "mCtYPwPwnQTj"
   },
   "outputs": [],
   "source": [
    "def ejemplo():\n",
    "    print(\"Hola\")\n",
    "    ejemplo()"
   ]
  },
  {
   "cell_type": "code",
   "execution_count": 7,
   "metadata": {
    "colab": {
     "base_uri": "https://localhost:8080/",
     "height": 53
    },
    "id": "WPZELqvvnQTk",
    "outputId": "964d905a-2e64-43d8-d933-125cb9cbef04"
   },
   "outputs": [
    {
     "name": "stdout",
     "output_type": "stream",
     "text": [
      "Hola\n"
     ]
    },
    {
     "data": {
      "text/plain": [
       "'mundo'"
      ]
     },
     "execution_count": 7,
     "metadata": {},
     "output_type": "execute_result"
    }
   ],
   "source": [
    "def ejemplo():\n",
    "    print(\"Hola\")\n",
    "    return \"mundo\"\n",
    "\n",
    "ejemplo()"
   ]
  },
  {
   "cell_type": "code",
   "execution_count": 3,
   "metadata": {
    "colab": {
     "base_uri": "https://localhost:8080/",
     "height": 53
    },
    "id": "XQGzjNl3nQTl",
    "outputId": "59ab92e2-b429-44ad-c255-6a75ada9ccc5"
   },
   "outputs": [
    {
     "name": "stdout",
     "output_type": "stream",
     "text": [
      "Hola\n"
     ]
    },
    {
     "data": {
      "text/plain": [
       "'mundo'"
      ]
     },
     "execution_count": 3,
     "metadata": {},
     "output_type": "execute_result"
    }
   ],
   "source": [
    "def ejemplo():\n",
    "  print(\"Hola\")\n",
    "  return \"mundo\"\n",
    "ejemplo()"
   ]
  },
  {
   "cell_type": "code",
   "execution_count": null,
   "metadata": {
    "colab": {
     "base_uri": "https://localhost:8080/"
    },
    "id": "r4rDM5eHnQTl",
    "outputId": "64657b9b-66d9-4a1c-9d82-7dd43502a312"
   },
   "outputs": [],
   "source": [
    "def calcular_media():\n",
    "    a = 4\n",
    "    b = 5\n",
    "    media = ( a + b ) / 2\n",
    "    return media\n",
    "\n",
    "calcular_media()"
   ]
  },
  {
   "cell_type": "code",
   "execution_count": 13,
   "metadata": {
    "colab": {
     "base_uri": "https://localhost:8080/"
    },
    "id": "fIdyFBTUnQTl",
    "outputId": "70d98566-48aa-4a0e-e1ab-69152db84fd9"
   },
   "outputs": [
    {
     "data": {
      "text/plain": [
       "'Hola Mundo'"
      ]
     },
     "execution_count": 13,
     "metadata": {},
     "output_type": "execute_result"
    }
   ],
   "source": [
    "def funcion():\n",
    "    return \"Hola Mundo\"\n",
    "\n",
    "frase = funcion()\n",
    "\n",
    "frase"
   ]
  },
  {
   "cell_type": "code",
   "execution_count": null,
   "metadata": {
    "colab": {
     "base_uri": "https://localhost:8080/"
    },
    "id": "MnzKzV-cnQTm",
    "outputId": "b3917af1-16ed-4479-b726-bd18f1b19d65"
   },
   "outputs": [
    {
     "data": {
      "text/plain": [
       "7"
      ]
     },
     "execution_count": 17,
     "metadata": {},
     "output_type": "execute_result"
    }
   ],
   "source": [
    "def sumar(numero_a, numero_b):\n",
    "    resultado = numero_a + numero_b\n",
    "    print(resultado)\n",
    "\n",
    "sumar(5, 2)"
   ]
  },
  {
   "cell_type": "code",
   "execution_count": 18,
   "metadata": {
    "colab": {
     "base_uri": "https://localhost:8080/"
    },
    "id": "8uk__apDnQTm",
    "outputId": "51d4922c-977a-4bbe-d4b4-1b2fcdd81a8e"
   },
   "outputs": [
    {
     "name": "stdout",
     "output_type": "stream",
     "text": [
      "4\n"
     ]
    }
   ],
   "source": [
    "def ejemplo3(x):\n",
    "    print(x * x)\n",
    "\n",
    "ejemplo3(2)"
   ]
  },
  {
   "cell_type": "code",
   "execution_count": 19,
   "metadata": {
    "id": "MzDm1UEjnQTm"
   },
   "outputs": [
    {
     "data": {
      "text/plain": [
       "4"
      ]
     },
     "execution_count": 19,
     "metadata": {},
     "output_type": "execute_result"
    }
   ],
   "source": [
    "def ejemplo3(x):\n",
    "    return (x * x)\n",
    "\n",
    "ejemplo3(2)"
   ]
  },
  {
   "cell_type": "code",
   "execution_count": null,
   "metadata": {
    "colab": {
     "base_uri": "https://localhost:8080/"
    },
    "id": "uQyghIFDnQTm",
    "outputId": "9523e9ed-077b-4fa3-8ea9-454aab267286"
   },
   "outputs": [
    {
     "name": "stdout",
     "output_type": "stream",
     "text": [
      "-1.0\n"
     ]
    }
   ],
   "source": [
    "def ejemplo4(a=0.0, b=0.0):\n",
    "    resta = a - b\n",
    "    print (resta)\n",
    "\n",
    "ejemplo1(b=1)"
   ]
  },
  {
   "cell_type": "code",
   "execution_count": 23,
   "metadata": {
    "colab": {
     "base_uri": "https://localhost:8080/"
    },
    "id": "WsrnwZK-nQTm",
    "outputId": "325c1163-2984-4eec-8f97-df26bfd7458c"
   },
   "outputs": [
    {
     "name": "stdout",
     "output_type": "stream",
     "text": [
      "Buen día Julio\n"
     ]
    }
   ],
   "source": [
    "def saludar(nombre, mensaje):\n",
    "    print (mensaje, nombre)\n",
    "\n",
    "saludar(\"Julio\", \"Buen día\")"
   ]
  },
  {
   "cell_type": "code",
   "execution_count": null,
   "metadata": {
    "colab": {
     "base_uri": "https://localhost:8080/"
    },
    "id": "93F73QZZnQTm",
    "outputId": "2ba67eb0-8ee1-414a-c3dc-6cd857b948a2"
   },
   "outputs": [
    {
     "name": "stdout",
     "output_type": "stream",
     "text": [
      "chao Pepe Grillo\n"
     ]
    }
   ],
   "source": [
    "def saludar(nombre, mensaje='Hola'):\n",
    "    print (mensaje, nombre)\n",
    "\n",
    "saludar('Pepe Grillo', mensaje=\"chao\" )"
   ]
  },
  {
   "cell_type": "code",
   "execution_count": 26,
   "metadata": {
    "colab": {
     "base_uri": "https://localhost:8080/"
    },
    "id": "DUrT-lqcnQTn",
    "outputId": "96dab24d-4292-4740-d981-e6a7d94c23a7"
   },
   "outputs": [
    {
     "name": "stdout",
     "output_type": "stream",
     "text": [
      "Buen día Juancho\n"
     ]
    }
   ],
   "source": [
    "def saludar(nombre, mensaje='Hola'):\n",
    "    print (mensaje, nombre)\n",
    "\n",
    "saludar(mensaje=\"Buen día\", nombre=\"Juancho\")"
   ]
  },
  {
   "cell_type": "code",
   "execution_count": null,
   "metadata": {
    "colab": {
     "base_uri": "https://localhost:8080/"
    },
    "id": "Gf7bE0GdnQTn",
    "outputId": "3b95e5f0-5820-4761-8258-cf3ecfe69cca"
   },
   "outputs": [
    {
     "name": "stdout",
     "output_type": "stream",
     "text": [
      "1\n",
      "c\n",
      "2.0\n",
      "hola\n",
      "True\n",
      "Python\n"
     ]
    }
   ],
   "source": [
    "def ejemplo5(*datos):\n",
    "    for dato in datos:\n",
    "        print(dato)\n",
    "    ejemplo5(1, 'c', 2.0, \"hola\", True, \"Python\")"
   ]
  },
  {
   "cell_type": "code",
   "execution_count": 32,
   "metadata": {
    "colab": {
     "base_uri": "https://localhost:8080/"
    },
    "id": "9cpynL0YnQTn",
    "outputId": "554077d1-cdf3-4ad7-d830-33fd2716b46b"
   },
   "outputs": [
    {
     "name": "stdout",
     "output_type": "stream",
     "text": [
      "{'clave0': 'otro', 'clave1': 20}\n"
     ]
    }
   ],
   "source": [
    "def ejemplo5(**diccionario):\n",
    "    print(diccionario)\n",
    "\n",
    "ejemplo5(clave0=\"otro\", clave1=20)"
   ]
  },
  {
   "cell_type": "code",
   "execution_count": 33,
   "metadata": {
    "colab": {
     "base_uri": "https://localhost:8080/"
    },
    "id": "ARCNbxO9nQTn",
    "outputId": "d10c122b-f805-4e1b-9071-4a1c2562f609"
   },
   "outputs": [
    {
     "name": "stdout",
     "output_type": "stream",
     "text": [
      "(1, 'c', 2.0, 'hola')    {'clave0': 'otro', 'clave1': 20}\n",
      "\n",
      "\n",
      "(1, 'c', 2.0, 'hola')\n",
      "{'clave0': 'otro', 'clave1': 20}\n"
     ]
    }
   ],
   "source": [
    "def ejemplo5(*datos, **dicci):\n",
    "    print(datos, \"  \", dicci)\n",
    "    print(\"\\n\")\n",
    "    for variablex in datos, dicci:\n",
    "        print (variablex)\n",
    "\n",
    "ejemplo5(1, 'c', 2.0, \"hola\", clave0=\"otro\", clave1=20)"
   ]
  },
  {
   "cell_type": "code",
   "execution_count": 35,
   "metadata": {
    "id": "_WxyYUfanQTn",
    "outputId": "307e1f45-fba1-482c-8df3-a767d49d741e"
   },
   "outputs": [
    {
     "name": "stdout",
     "output_type": "stream",
     "text": [
      "Fijo\n",
      "arbitrario 1\n",
      "arbitrario 2\n",
      "arbitrario 3\n"
     ]
    }
   ],
   "source": [
    "def recorrer_parametros_arbitrarios(parametro_fijo, *parametros_arbitrarios):\n",
    "    print (parametro_fijo )\n",
    "    for parametro in parametros_arbitrarios:\n",
    "        print (parametro)\n",
    "\n",
    "recorrer_parametros_arbitrarios('Fijo', 'arbitrario 1', 'arbitrario 2', 'arbitrario 3')"
   ]
  },
  {
   "cell_type": "code",
   "execution_count": null,
   "metadata": {
    "id": "xxD_C0QGnQTo",
    "outputId": "3042c92b-cacb-48af-cd78-4486fd64d955"
   },
   "outputs": [
    {
     "name": "stdout",
     "output_type": "stream",
     "text": [
      "Fixed\n",
      "arbitrario 1\n",
      "arbitrario 2\n",
      "arbitrario 3\n",
      "El valor de clave1 es valor uno\n",
      "El valor de clave2 es valor dos\n"
     ]
    }
   ],
   "source": [
    "def recorrer_parametros_arbitrarios(parametro_fijo, *arbitrarios, **kwords):\n",
    "    print (parametro_fijo)\n",
    "    \n",
    "    for argumento in arbitrarios:\n",
    "        print (argumento)\n",
    "    \n",
    "    for clave in kwords:\n",
    "        print (\"El valor de\", clave, \"es\", kwords[clave])\n",
    "\n",
    "recorrer_parametros_arbitrarios(\"fijo\", \"arbitrario 1\", \"arbitrario 2\", \"arbitrario 3\", clave1=\"valor uno\", clave2=\"valor dos\")"
   ]
  },
  {
   "cell_type": "code",
   "execution_count": null,
   "metadata": {
    "id": "jl0LhLt5nQTo",
    "outputId": "60d87440-cd1b-4a7c-aa6f-20f3db20316e"
   },
   "outputs": [],
   "source": [
    "def recorrer_parametros_arbitrarios(parametro_fijo, *arbitrarios, **kwords):\n",
    "    print (parametro_fijo)\n",
    "    for clave in kwords:\n",
    "        print (\"El valor de\", clave, \"es\", kwords[clave])\n",
    "    for argumento in arbitrarios:\n",
    "        print (argumento)\n",
    "    recorrer_parametros_arbitrarios(\"Fixed\", \"arbitrario 1\", \"arbitrario 2\", \"arbitrario 3\", clave1=\"valor uno\", clave2=\"valor dos\")"
   ]
  },
  {
   "cell_type": "code",
   "execution_count": null,
   "metadata": {
    "id": "1vTftTVUnQTo",
    "outputId": "7c6dd2da-0b77-4e54-c54a-3f7937587717"
   },
   "outputs": [],
   "source": [
    "def recorrer_parametros_arbitrarios(parametro_fijo, *arbitrarios, **kwords):\n",
    "    print (parametro_fijo)\n",
    "\n",
    "    for argumento in arbitrarios:\n",
    "        print (argumento)\n",
    "\n",
    "\n",
    "    for clave in kwords:\n",
    "        print (\"El valor de\", clave, \"es\", kwords[clave])\n",
    "\n",
    "recorrer_parametros_arbitrarios(clave1=\"valor uno\", clave2=\"valor dos\", \"Fixed\", \"arbitrario 1\", \"arbitrario 2\", \"arbitrario 3\")\n"
   ]
  },
  {
   "cell_type": "code",
   "execution_count": null,
   "metadata": {
    "id": "uVKni1uKnQTp",
    "outputId": "9923189e-2dd4-477c-9001-705393a71787"
   },
   "outputs": [],
   "source": [
    "def recorrer_parametros_arbitrarios(parametro_fijo, *arbitrarios, **kwords):\n",
    "    print (parametro_fijo)\n",
    "\n",
    "    for argumento in arbitrarios:\n",
    "        print (argumento)\n",
    "\n",
    "\n",
    "    for clave in kwords:\n",
    "        print (\"El valor de\", clave, \"es\", kwords[clave])\n",
    "\n",
    "recorrer_parametros_arbitrarios(\"Fixed\", \"arbitrario 1\", \"arbitrario 2\", \"arbitrario 3\",\n",
    "                                clave1=\"valor uno\", clave2=\"valor dos\")"
   ]
  },
  {
   "cell_type": "code",
   "execution_count": null,
   "metadata": {
    "id": "BS5W4q1cnQTp",
    "outputId": "31c6eca5-d611-4686-9bb1-ee6aaa57f95c"
   },
   "outputs": [],
   "source": [
    "def recorrer_parametros_arbitrarios(parametro_fijo, *arbitrarios, **kwords):\n",
    "    print (parametro_fijo)\n",
    "\n",
    "    for argumento in arbitrarios:\n",
    "        print (argumento)\n",
    "\n",
    "    for clave in kwords:\n",
    "        print (\"El valor de\", clave, \"es\", kwords[clave])\n",
    "recorrer_parametros_arbitrarios(clave1=\"valor uno\", clave2=\"valor dos\",\"Fixed\",\n",
    "                                \"arbitrario 1\", \"arbitrario 2\", \"arbitrario 3\")"
   ]
  }
 ],
 "metadata": {
  "colab": {
   "provenance": []
  },
  "kernelspec": {
   "display_name": "Python 3",
   "language": "python",
   "name": "python3"
  },
  "language_info": {
   "codemirror_mode": {
    "name": "ipython",
    "version": 3
   },
   "file_extension": ".py",
   "mimetype": "text/x-python",
   "name": "python",
   "nbconvert_exporter": "python",
   "pygments_lexer": "ipython3",
   "version": "3.13.0"
  }
 },
 "nbformat": 4,
 "nbformat_minor": 4
}
