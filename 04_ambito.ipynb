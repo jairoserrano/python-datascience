{
 "cells": [
  {
   "cell_type": "markdown",
   "metadata": {},
   "source": [
    "<img src=\"https://www.utb.edu.co/wp-content/uploads/2020/09/utb-logotipo.png\"/>"
   ]
  },
  {
   "cell_type": "markdown",
   "metadata": {
    "id": "dj2yIQSmnP4g"
   },
   "source": [
    "# Reto, entendiendo el ambito de las variables\n",
    "Analiza, Actualiza, Documenta y Ejecuta el siguiente código"
   ]
  },
  {
   "cell_type": "code",
   "execution_count": 1,
   "metadata": {
    "colab": {
     "base_uri": "https://localhost:8080/"
    },
    "id": "IhkwtUvMnP4g",
    "outputId": "f2ccdca6-967c-4810-b99f-d9afef6a1d65"
   },
   "outputs": [
    {
     "name": "stdout",
     "output_type": "stream",
     "text": [
      "4 is maximum\n",
      "7 is maximum\n"
     ]
    }
   ],
   "source": [
    "def print_max(a, b):\n",
    "    if a > b:\n",
    "        print(a, 'is maximum')\n",
    "    elif a == b:\n",
    "        print(a, 'is equal to', b)\n",
    "    else:\n",
    "        print(b, 'is maximum')\n",
    "\n",
    "print_max(3, 4)\n",
    "x = 5\n",
    "y = 7\n",
    "print_max(x, y)"
   ]
  },
  {
   "cell_type": "code",
   "execution_count": 2,
   "metadata": {
    "colab": {
     "base_uri": "https://localhost:8080/"
    },
    "id": "O7kIqMhynP4i",
    "outputId": "f0e7d055-6d75-4941-b643-973ec45f9cad"
   },
   "outputs": [
    {
     "name": "stdout",
     "output_type": "stream",
     "text": [
      "x es 50\n",
      "Cambio local x a 2\n",
      "x es aun: 50\n"
     ]
    }
   ],
   "source": [
    "#ambito de funciones local y global Python dispone de dos funciones nativas: locals() y globals().\n",
    "\n",
    "x = 50\n",
    "def func(x): #defino como parametro x\n",
    "    print('x es', x)\n",
    "    x = 2\n",
    "    print('Cambio local x a', x)\n",
    "\n",
    "func(x)\n",
    "\n",
    "print('x es aun:', x)\n"
   ]
  },
  {
   "cell_type": "code",
   "execution_count": 3,
   "metadata": {
    "colab": {
     "base_uri": "https://localhost:8080/"
    },
    "id": "SWinY-3KnP4i",
    "outputId": "638dff24-241c-47d3-dc53-ec5eb1a9d6af"
   },
   "outputs": [
    {
     "name": "stdout",
     "output_type": "stream",
     "text": [
      "Iniciemos imprimiendo la variable:  50\n",
      "x es 50\n",
      "Ahora x es:  2\n",
      "Por ultimo, x es: 2\n"
     ]
    }
   ],
   "source": [
    "x = 50\n",
    "print (\"Iniciemos imprimiendo la variable: \", x)\n",
    "def ejemplo0():# no existe el parametro  sin embargo declaro x como global\n",
    "    global x\n",
    "    print(\"x es\", x)\n",
    "    x = 2\n",
    "    print(\"Ahora x es: \", x)\n",
    "ejemplo0()\n",
    "print(\"Por ultimo, x es:\", x)"
   ]
  },
  {
   "cell_type": "code",
   "execution_count": 4,
   "metadata": {
    "colab": {
     "base_uri": "https://localhost:8080/"
    },
    "id": "h-xJ42R8nP4j",
    "outputId": "6256a777-4b26-47d0-f82b-882b693efa5d"
   },
   "outputs": [
    {
     "name": "stdout",
     "output_type": "stream",
     "text": [
      "Iniciemos imprimiendo la variable:  50\n",
      "x es 0\n",
      "Ahora x es:  2\n",
      "Por ultimo, x es: 50\n"
     ]
    }
   ],
   "source": [
    "x = 50\n",
    "print (\"Iniciemos imprimiendo la variable: \", x)\n",
    "def ejemplo0(x=0):\n",
    "    print(\"x es\", x)\n",
    "    x = 2\n",
    "    print(\"Ahora x es: \", x)\n",
    "ejemplo0()\n",
    "print(\"Por ultimo, x es:\", x)"
   ]
  },
  {
   "cell_type": "markdown",
   "metadata": {
    "id": "Mt7uCHyZnP4j"
   },
   "source": [
    "Anotación: Si las variables no estan declaradas dentro de su funcion busca la global"
   ]
  },
  {
   "cell_type": "code",
   "execution_count": 5,
   "metadata": {
    "colab": {
     "base_uri": "https://localhost:8080/"
    },
    "id": "lYBkXCPynP4j",
    "outputId": "a075faf3-70c6-4ff7-fe7a-df9ed8fd76d2"
   },
   "outputs": [
    {
     "name": "stdout",
     "output_type": "stream",
     "text": [
      "20\n",
      "10\n"
     ]
    }
   ],
   "source": [
    "def general():\n",
    "    global a\n",
    "    a=10\n",
    "    def primero(b):\n",
    "        print(b)\n",
    "        print(a)\n",
    "    primero(20)\n",
    "    def segundo():\n",
    "        print(a)\n",
    "        segundo()\n",
    "general()"
   ]
  },
  {
   "cell_type": "code",
   "execution_count": 6,
   "metadata": {
    "colab": {
     "base_uri": "https://localhost:8080/"
    },
    "id": "DQzb3wionP4j",
    "outputId": "0917ffc3-78e6-4bd6-9af7-7d84c32ca819"
   },
   "outputs": [
    {
     "name": "stdout",
     "output_type": "stream",
     "text": [
      "20\n",
      "10\n",
      "\n",
      "\n",
      "30\n"
     ]
    }
   ],
   "source": [
    "global a\n",
    "def general(a):\n",
    "    def primero(b):\n",
    "        print(b)\n",
    "        print(a)\n",
    "    primero(20)\n",
    "general(10)\n",
    "print(\"\\n\")\n",
    "def segundo(a):\n",
    "    print(a)\n",
    "segundo(30)\n"
   ]
  },
  {
   "cell_type": "markdown",
   "metadata": {
    "id": "p5HqOtsHnP4j"
   },
   "source": [
    "OTROS"
   ]
  },
  {
   "cell_type": "code",
   "execution_count": null,
   "metadata": {
    "colab": {
     "base_uri": "https://localhost:8080/",
     "height": 235
    },
    "id": "4Xjj9nimnP4k",
    "outputId": "d1e839e0-5f5a-4c3f-edbc-0796a5b46f5d"
   },
   "outputs": [],
   "source": [
    "# Define función\n",
    "def acelerar():\n",
    "    global km\n",
    "    tiempo = 1\n",
    "    km += 5\n",
    "\n",
    "km = 10\n",
    "\n",
    "print('Velocidad:', km)\n",
    "\n",
    "acelerar()\n",
    "\n",
    "print('Velocidad:', km)\n",
    "\n",
    "print('Tiempo:', tiempo)"
   ]
  },
  {
   "cell_type": "code",
   "execution_count": null,
   "metadata": {
    "colab": {
     "base_uri": "https://localhost:8080/"
    },
    "id": "EFneULFqnP4k",
    "outputId": "b9429462-2be4-4b4c-8d35-e72eb481ad05"
   },
   "outputs": [],
   "source": [
    "def otro():\n",
    "    global a\n",
    "    print(a)\n",
    "    a = 1\n",
    "\n",
    "a = 5\n",
    "otro()\n",
    "print(a)"
   ]
  },
  {
   "cell_type": "code",
   "execution_count": null,
   "metadata": {
    "id": "sRZQ6KjJnP4k",
    "outputId": "91c9e70e-d86d-4837-9e92-e7f00feb3232"
   },
   "outputs": [],
   "source": [
    "def ejemplo6():\n",
    "    a=1\n",
    "    b=2\n",
    "    d=b-a\n",
    "    global c\n",
    "    c=a+b\n",
    "    print (d)\n",
    "ejemplo6()\n",
    "print(\"\\n\")\n",
    "print (c)"
   ]
  },
  {
   "cell_type": "code",
   "execution_count": null,
   "metadata": {
    "id": "tJure9_TnP4k"
   },
   "outputs": [],
   "source": []
  }
 ],
 "metadata": {
  "colab": {
   "provenance": []
  },
  "kernelspec": {
   "display_name": "Python 3 (ipykernel)",
   "language": "python",
   "name": "python3"
  },
  "language_info": {
   "codemirror_mode": {
    "name": "ipython",
    "version": 3
   },
   "file_extension": ".py",
   "mimetype": "text/x-python",
   "name": "python",
   "nbconvert_exporter": "python",
   "pygments_lexer": "ipython3",
   "version": "3.9.6"
  }
 },
 "nbformat": 4,
 "nbformat_minor": 4
}
