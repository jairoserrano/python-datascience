{
 "cells": [
  {
   "cell_type": "markdown",
   "id": "ecafbe99-fe29-4938-943f-4abedadcab25",
   "metadata": {},
   "source": [
    "<img src=\"https://www.utb.edu.co/wp-content/uploads/2020/09/utb-logotipo.png\"/>"
   ]
  },
  {
   "cell_type": "markdown",
   "id": "c4834f9a-baef-4292-b248-91bc4fbfc571",
   "metadata": {},
   "source": [
    "# Introducción a la Orientación a Objetos (OO)"
   ]
  },
  {
   "cell_type": "markdown",
   "id": "feea89a0-bd78-4d24-9f06-8330092e97a5",
   "metadata": {},
   "source": [
    "La orientación a objetos es un paradigma de programación que utiliza \"objetos\" – que son instancias de \"clases\" – para organizar el código. Las clases definen la estructura y el comportamiento de los objetos.\n",
    "\n",
    "## Definición de una Clase\n",
    "Las clases son plantillas para crear objetos. Una clase puede tener atributos (variables) y métodos (funciones)."
   ]
  },
  {
   "cell_type": "code",
   "execution_count": null,
   "id": "7edd563b-68b3-4e2b-920a-3124d00ec745",
   "metadata": {},
   "outputs": [
    {
     "name": "stdout",
     "output_type": "stream",
     "text": [
      "Nombre: Juan Pérez hola mundo\n",
      "Edad: 30 años\n",
      "Género: Masculino\n",
      "Número de Afiliación: 123456789\n"
     ]
    }
   ],
   "source": [
    "# Definición de una clase básica para representar un Paciente\n",
    "class Paciente:\n",
    "    def __init__(self, nombre, edad, genero, numero_afiliacion):\n",
    "        self.nombre = nombre\n",
    "        self.edad = edad\n",
    "        self.genero = genero\n",
    "        self.numero_afiliacion = numero_afiliacion\n",
    "\n",
    "    def mostrar_informacion(self):\n",
    "        print(\"Nombre:\", self.nombre)\n",
    "        print(f\"Edad: {self.edad} años\")\n",
    "        print(f\"Género: {self.genero}\")\n",
    "        print(f\"Número de Afiliación: {self.numero_afiliacion}\")\n",
    "\n",
    "# Creación de un objeto de la clase Paciente\n",
    "paciente1 = Paciente(\"Juan Pérez\", 30, \"Masculino\", \"123456789\")\n",
    "paciente1.mostrar_informacion()"
   ]
  },
  {
   "cell_type": "markdown",
   "id": "2f309d41-5d11-4e5e-b66a-a2880af49c9f",
   "metadata": {},
   "source": [
    "## Herencia\n",
    "La herencia permite crear nuevas clases basadas en clases existentes. Esto es útil para reutilizar el código y extender la funcionalidad."
   ]
  },
  {
   "cell_type": "code",
   "execution_count": 13,
   "id": "67ac73e4-bb92-4ecb-9bda-9af6631b5c5b",
   "metadata": {},
   "outputs": [
    {
     "name": "stdout",
     "output_type": "stream",
     "text": [
      "Nombre: Maria Gómez hola mundo\n",
      "Edad: 45 años\n",
      "Género: Femenino\n",
      "Número de Afiliación: 987654321\n",
      "Nivel VIP: Oro\n",
      "Nombre del paciente: Maria Gómez\n"
     ]
    }
   ],
   "source": [
    "# Definición de una clase derivada para representar un Paciente VIP\n",
    "class PacienteVIP(Paciente):\n",
    "    def __init__(self, nombre, edad, genero, numero_afiliacion, nivel_vip):\n",
    "        super().__init__(nombre, edad, genero, numero_afiliacion)\n",
    "        self.nivel_vip = nivel_vip\n",
    "        \n",
    "    def mostrar_informacion(self):\n",
    "        super().mostrar_informacion()\n",
    "        self.mostrar_nivel_vip()\n",
    "    \n",
    "    def mostrar_nivel_vip(self):\n",
    "        print(f\"Nivel VIP: {self.nivel_vip}\")\n",
    "\n",
    "# Creación de un objeto de la clase PacienteVIP\n",
    "paciente_vip = PacienteVIP(\"Maria Gómez\", 45, \"Femenino\", \"987654321\", \"Oro\")\n",
    "paciente_vip.mostrar_informacion()\n",
    "print(f\"Nombre del paciente: {paciente_vip.nombre}\")"
   ]
  },
  {
   "cell_type": "markdown",
   "id": "8c395369-fc26-4083-aa2f-bcbabc3044fa",
   "metadata": {},
   "source": [
    "## Encapsulamiento\n",
    "El encapsulamiento se refiere a la restricción del acceso directo a algunos de los componentes de un objeto, lo que puede evitar la modificación accidental de datos."
   ]
  },
  {
   "cell_type": "code",
   "execution_count": 21,
   "id": "8c9272f6-372e-4acc-9225-15a0199765b4",
   "metadata": {},
   "outputs": [
    {
     "name": "stdout",
     "output_type": "stream",
     "text": [
      "Nombre: Carlos Ruiz\n",
      "Edad: 55\n",
      "Género: Masculino\n",
      "Número de Afiliación: 123123123\n",
      "Actualizando la edad del paciente...\n",
      "Nombre: Carlos Ruiz\n",
      "Edad: 56\n",
      "Género: Masculino\n",
      "Número de Afiliación: 123123123\n",
      "Carlos Ruiz\n"
     ]
    }
   ],
   "source": [
    "# Uso de encapsulamiento para proteger los datos sensibles de un Paciente\n",
    "class Paciente:\n",
    "    def __init__(self, nombre, edad, genero, numero_afiliacion):\n",
    "        self.__nombre = nombre\n",
    "        self.__edad = edad\n",
    "        self.__genero = genero\n",
    "        self.__numero_afiliacion = numero_afiliacion\n",
    "        \n",
    "    def mostrar_informacion(self):\n",
    "        print(f\"Nombre: {self.__nombre}\")\n",
    "        print(f\"Edad: {self.__edad}\")\n",
    "        print(f\"Género: {self.__genero}\")\n",
    "        print(f\"Número de Afiliación: {self.__numero_afiliacion}\")\n",
    "    \n",
    "    def mostrar_nombre(self):\n",
    "        print(self.__nombre)\n",
    "\n",
    "    def actualizar_edad(self, nueva_edad):\n",
    "        if nueva_edad > 0:\n",
    "            self.__edad = nueva_edad\n",
    "        else:\n",
    "            print(\"Edad no válida\")\n",
    "\n",
    "# Creación de un objeto de la clase Paciente\n",
    "paciente2 = Paciente(\"Carlos Ruiz\", 55, \"Masculino\", \"123123123\")\n",
    "paciente2.mostrar_informacion()\n",
    "print(\"Actualizando la edad del paciente...\")\n",
    "paciente2.actualizar_edad(56)\n",
    "paciente2.mostrar_informacion()\n",
    "paciente2.mostrar_nombre()\n",
    "#print(paciente2.__nombre)"
   ]
  },
  {
   "cell_type": "markdown",
   "id": "2c976236-feff-4d91-8163-3a51ae7b2251",
   "metadata": {},
   "source": [
    "## Polimorfismo\n",
    "El polimorfismo permite usar una interfaz común para objetos de diferentes clases."
   ]
  },
  {
   "cell_type": "code",
   "execution_count": 23,
   "id": "61431e55-5042-4da9-8a75-bf4b8bb36b33",
   "metadata": {},
   "outputs": [
    {
     "name": "stdout",
     "output_type": "stream",
     "text": [
      "Nombre: Laura Vega\n",
      "Edad: 29\n",
      "Género: Femenino\n",
      "Número de Afiliación: 321321321\n",
      "---------------\n",
      "Nombre: Pedro Martínez hola mundo\n",
      "Edad: 40 años\n",
      "Género: Masculino\n",
      "Número de Afiliación: 654654654\n",
      "Nivel VIP: Plata\n",
      "---------------\n"
     ]
    }
   ],
   "source": [
    "# Definición de una función que toma cualquier tipo de Paciente\n",
    "def mostrar_informacion_paciente(paciente):\n",
    "    paciente.mostrar_informacion()\n",
    "    print(\"---------------\")\n",
    "\n",
    "# Creación de objetos de diferentes clases de Paciente\n",
    "paciente3 = Paciente(\"Laura Vega\", 29, \"Femenino\", \"321321321\")\n",
    "paciente_vip2 = PacienteVIP(\"Pedro Martínez\", 40, \"Masculino\", \"654654654\", \"Plata\")\n",
    "\n",
    "# Uso de la función polimórfica\n",
    "mostrar_informacion_paciente(paciente3)\n",
    "mostrar_informacion_paciente(paciente_vip2)"
   ]
  },
  {
   "cell_type": "markdown",
   "id": "491b2a9a-a04e-480d-bdd7-0c0ebf025a00",
   "metadata": {},
   "source": [
    "## Composición y Agregación\n",
    "La composición y la agregación permiten crear objetos complejos a partir de objetos más simples. En la composición, los objetos compuestos no pueden existir independientemente de su objeto contenedor. En la agregación, pueden existir independientemente."
   ]
  },
  {
   "cell_type": "code",
   "execution_count": null,
   "id": "6904ed16-c877-4ba4-9a8a-5d2f55929549",
   "metadata": {},
   "outputs": [],
   "source": [
    "# Definición de una clase para representar un Médico\n",
    "class Medico:\n",
    "    def __init__(self, nombre, especialidad):\n",
    "        self.nombre = nombre\n",
    "        self.especialidad = especialidad\n",
    "        \n",
    "    def mostrar_informacion(self):\n",
    "        print(f\"Médico: {self.nombre}\")\n",
    "        print(f\"Especialidad: {self.especialidad}\")\n",
    "\n",
    "# Definición de una clase para representar una Cita Médica\n",
    "class CitaMedica:\n",
    "    def __init__(self, paciente, medico, fecha, hora):\n",
    "        self.paciente = paciente\n",
    "        self.medico = medico\n",
    "        self.fecha = fecha\n",
    "        self.hora = hora\n",
    "        \n",
    "    def mostrar_informacion(self):\n",
    "        print(\"Información de la Cita Médica:\")\n",
    "        self.paciente.mostrar_informacion()\n",
    "        self.medico.mostrar_informacion()\n",
    "        print(f\"Fecha: {self.fecha}\")\n",
    "        print(f\"Hora: {self.hora}\")\n",
    "\n",
    "# Creación de objetos Paciente y Medico\n",
    "paciente4 = Paciente(\"Ana Torres\", 34, \"Femenino\", \"987987987\")\n",
    "medico1 = Medico(\"Dr. Fernando López\", \"Cardiología\")\n",
    "\n",
    "# Creación de un objeto CitaMedica\n",
    "cita1 = CitaMedica(paciente4, medico1, \"2024-06-15\", \"10:00 AM\")\n",
    "cita1.mostrar_informacion()"
   ]
  },
  {
   "cell_type": "markdown",
   "id": "edba988f-6e2b-4e6c-a1fd-c6b6975aa867",
   "metadata": {},
   "source": [
    "## Métodos Especiales\n",
    "Los métodos especiales (también conocidos como métodos mágicos) permiten definir comportamientos específicos para operadores y funciones internas de Python"
   ]
  },
  {
   "cell_type": "code",
   "execution_count": null,
   "id": "3b19d034-7a9e-4ffa-9f6f-90d312fdf557",
   "metadata": {},
   "outputs": [],
   "source": [
    "# Definición de métodos especiales en la clase Paciente\n",
    "class Paciente:\n",
    "    def __init__(self, nombre, edad, genero, numero_afiliacion):\n",
    "        self.__nombre = nombre\n",
    "        self.__edad = edad\n",
    "        self.__genero = genero\n",
    "        self.__numero_afiliacion = numero_afiliacion\n",
    "        \n",
    "    def __str__(self):\n",
    "        return f\"Paciente: {self.__nombre}, Edad: {self.__edad}, Género: {self.__genero}, Afiliación: {self.__numero_afiliacion}\"\n",
    "    \n",
    "    def __repr__(self):\n",
    "        return f\"Paciente('{self.__nombre}', {self.__edad}, '{self.__genero}', '{self.__numero_afiliacion}')\"\n",
    "    \n",
    "    def __eq__(self, other):\n",
    "        return self.__numero_afiliacion == other.__numero_afiliacion\n",
    "\n",
    "# Uso de los métodos especiales\n",
    "paciente5 = Paciente(\"Luis Rojas\", 50, \"Masculino\", \"111222333\")\n",
    "paciente6 = Paciente(\"Luis Rojas\", 50, \"Masculino\", \"11122233\")\n",
    "\n",
    "print(paciente5)\n",
    "print(paciente5 == paciente6)\n",
    "print(repr(paciente5))"
   ]
  },
  {
   "cell_type": "markdown",
   "id": "a076b43b-2007-4129-b76a-490abf191f8f",
   "metadata": {},
   "source": [
    "## Name Mangling\n",
    "El name mangling cambia el nombre de los atributos privados para que no puedan ser sobrescritos accidentalmente por subclases. Python transforma los nombres de atributos que tienen dos guiones bajos iniciales y ningún o un solo guion bajo al final. La transformación agrega al principio del nombre del atributo el nombre de la clase seguido de un guion bajo."
   ]
  },
  {
   "cell_type": "code",
   "execution_count": null,
   "id": "78172b78-48e5-4a49-94c5-cf11c4bf1dde",
   "metadata": {},
   "outputs": [],
   "source": [
    "class Ejemplo:\n",
    "    def __init__(self):\n",
    "        self.__variable_privada = 42  # Name mangling aplicado\n",
    "\n",
    "    def mostrar_variable(self):\n",
    "        print(self.__variable_privada)\n",
    "\n",
    "obj = Ejemplo()\n",
    "obj.mostrar_variable()  # Funciona porque se accede correctamente\n",
    "print(obj.__variable_privada)  # Esto dará un error AttributeError"
   ]
  }
 ],
 "metadata": {
  "kernelspec": {
   "display_name": "Python 3",
   "language": "python",
   "name": "python3"
  },
  "language_info": {
   "codemirror_mode": {
    "name": "ipython",
    "version": 3
   },
   "file_extension": ".py",
   "mimetype": "text/x-python",
   "name": "python",
   "nbconvert_exporter": "python",
   "pygments_lexer": "ipython3",
   "version": "3.13.0"
  }
 },
 "nbformat": 4,
 "nbformat_minor": 5
}
