{
 "cells": [
  {
   "cell_type": "markdown",
   "id": "ca45228e-01fa-4868-8437-ab7d5fc2f0b9",
   "metadata": {},
   "source": [
    "<img src=\"https://www.utb.edu.co/wp-content/uploads/2020/09/utb-logotipo.png\"/>"
   ]
  },
  {
   "cell_type": "markdown",
   "id": "2f60a995-e837-4953-9d2e-30e41b8ff2e1",
   "metadata": {},
   "source": [
    "# Manejo de Excepciones\n",
    "El manejo de excepciones en Python se realiza principalmente mediante las estructuras try, except, else, y finally.\n",
    "\n",
    "## Estructura Básica\n",
    " - *try*: Bloque donde colocas el código que podría generar una excepción.\n",
    " - *except*: Bloque donde manejas la excepción si ocurre.\n",
    " - *else*: Bloque que se ejecuta si no ocurre ninguna excepción.\n",
    " - *finally*: Bloque que se ejecuta siempre, ocurra o no una excepción."
   ]
  },
  {
   "cell_type": "code",
   "execution_count": null,
   "id": "e4121e1c-5d40-49e4-82de-b9fb188287e1",
   "metadata": {},
   "outputs": [],
   "source": [
    "class Paciente:\n",
    "    def __init__(self, nombre, edad, genero, numero_afiliacion):\n",
    "        self.__nombre = nombre\n",
    "        self.__edad = edad\n",
    "        self.__genero = genero\n",
    "        self.__numero_afiliacion = numero_afiliacion\n",
    "\n",
    "    def mostrar_informacion(self):\n",
    "        print(f\"Nombre: {self.__nombre}\")\n",
    "        print(f\"Edad: {self.__edad}\")\n",
    "        print(f\"Género: {self.__genero}\")\n",
    "        print(f\"Número de Afiliación: {self.__numero_afiliacion}\")\n",
    "\n",
    "# Creación de un objeto de la clase Paciente\n",
    "paciente = Paciente(\"Carlos Ruiz\", 55, \"Masculino\", \"123123123\")\n",
    "\n",
    "# Intento de acceder a una variable privada directamente (fallará)\n",
    "try:\n",
    "    print(paciente.__nombre)\n",
    "except AttributeError as e:\n",
    "    print(f\"Error: {e}\")\n",
    "\n",
    "# Acceso a una variable privada usando name mangling\n",
    "try:\n",
    "    print(paciente._Paciente__nombre)\n",
    "except Exception as e:\n",
    "    print(f\"Error: {e}\")\n",
    "\n",
    "# Mostrar información del paciente para ver que todo sigue funcionando\n",
    "paciente.mostrar_informacion()\n"
   ]
  },
  {
   "cell_type": "markdown",
   "id": "dfb31543-b563-497c-9021-364269ff1306",
   "metadata": {},
   "source": [
    "## Tipos Comunes de Excepciones"
   ]
  },
  {
   "cell_type": "code",
   "execution_count": null,
   "id": "a971f272-39a4-4691-a67f-d08397843a1c",
   "metadata": {},
   "outputs": [],
   "source": [
    "try:\n",
    "    resultado = 10 / \"50\"\n",
    "except FileNotFoundError as e:\n",
    "    print(f\"{e}\")\n"
   ]
  },
  {
   "cell_type": "code",
   "execution_count": null,
   "id": "9b84f44e-b454-49d0-9c73-4384a0670b14",
   "metadata": {},
   "outputs": [],
   "source": [
    "try:\n",
    "    numero = int(\"abc\")\n",
    "except ValueError as e:\n",
    "    print(f\"Error: Valor no válido para convertir a entero. {e}\")"
   ]
  },
  {
   "cell_type": "code",
   "execution_count": null,
   "id": "ea9b95d8-6b50-4f9c-9852-0f736340c4c2",
   "metadata": {},
   "outputs": [],
   "source": [
    "try:\n",
    "    with open('archivo_inexistente.txt', 'r') as archivo:\n",
    "        contenido = archivo.read()\n",
    "except FileNotFoundError as e:\n",
    "    print(f\"Error: Archivo no encontrado. {e}\")"
   ]
  },
  {
   "cell_type": "markdown",
   "id": "8e1dffe0-7d7b-4a3a-a39f-cc765dc8a313",
   "metadata": {},
   "source": [
    "## Uso de else y finally\n",
    "\n",
    " - else: Se ejecuta si no se produce ninguna excepción.\n",
    " - finally: Se ejecuta siempre, independientemente de si ocurre o no una excepción. Es útil para liberar recursos, cerrar archivos, etc."
   ]
  },
  {
   "cell_type": "code",
   "execution_count": null,
   "id": "0976e502-8ce4-467f-aeca-9052ce23ef30",
   "metadata": {},
   "outputs": [],
   "source": [
    "try:\n",
    "    with open('archivo_inexistente.txt', 'r') as archivo:\n",
    "        contenido = archivo.read()\n",
    "except FileNotFoundError as e:\n",
    "    print(f\"Error: Archivo no encontrado. {e}\")\n",
    "except FileNotFoundError as e:\n",
    "    print(f\"Error: Archivo no encontrado. {e}\")\n",
    "else:\n",
    "    print(\"Archivo leído correctamente.\")\n",
    "finally:\n",
    "    print(\"Ejecución del bloque finally.\")"
   ]
  },
  {
   "cell_type": "markdown",
   "id": "5913ef21-1174-44b5-b641-b540bb2db2c9",
   "metadata": {},
   "source": [
    "## Definición de Excepciones Personalizadas\n",
    "Puedes definir tus propias excepciones personalizadas para manejar casos específicos en tu aplicación."
   ]
  },
  {
   "cell_type": "code",
   "execution_count": null,
   "id": "7a3a2a48-b069-407c-9d67-c9e297cbe4f5",
   "metadata": {},
   "outputs": [],
   "source": [
    "class Paciente:\n",
    "    def __init__(self, nombre, edad, genero, numero_afiliacion):\n",
    "        self.nombre = nombre\n",
    "        self.edad = edad\n",
    "        self.genero = genero\n",
    "        self.numero_afiliacion = numero_afiliacion  # Cambiado a público\n",
    "\n",
    "    def mostrar_informacion(self):\n",
    "        print(f\"Nombre: {self.nombre}\")\n",
    "        print(f\"Edad: {self.edad}\")\n",
    "        print(f\"Género: {self.genero}\")\n",
    "        print(f\"Número de Afiliación: {self.numero_afiliacion}\")\n",
    "\n",
    "class ErrorPaciente(Exception):\n",
    "    pass\n",
    "\n",
    "class PacienteNoEncontrado(ErrorPaciente):\n",
    "    def __init__(self, numero_afiliacion):\n",
    "        self.numero_afiliacion = numero_afiliacion\n",
    "        super().__init__(f\"Paciente con número de afiliación {numero_afiliacion} no encontrado.\")\n",
    "\n",
    "# Uso de la excepción personalizada\n",
    "def buscar_paciente(numero_afiliacion, pacientes):\n",
    "    for paciente in pacientes:\n",
    "        if paciente.numero_afiliacion == numero_afiliacion:\n",
    "            return paciente\n",
    "    raise PacienteNoEncontrado(numero_afiliacion)\n",
    "\n",
    "# Lista de pacientes\n",
    "pacientes = [\n",
    "    Paciente(\"Ana Torres\", 34, \"Femenino\", \"987987987\"),\n",
    "    Paciente(\"Luis Rojas\", 50, \"Masculino\", \"111222333\")\n",
    "]\n",
    "\n",
    "# Búsqueda de un paciente\n",
    "try:\n",
    "    paciente_buscado = buscar_paciente(\"98798798\", pacientes)\n",
    "    paciente_buscado.mostrar_informacion()\n",
    "except PacienteNoEncontrado as e:\n",
    "    print(e)"
   ]
  },
  {
   "cell_type": "code",
   "execution_count": null,
   "id": "a07fd83d-5c67-45df-9b08-cae2056c3646",
   "metadata": {},
   "outputs": [],
   "source": []
  }
 ],
 "metadata": {
  "kernelspec": {
   "display_name": "Python 3 (ipykernel)",
   "language": "python",
   "name": "python3"
  },
  "language_info": {
   "codemirror_mode": {
    "name": "ipython",
    "version": 3
   },
   "file_extension": ".py",
   "mimetype": "text/x-python",
   "name": "python",
   "nbconvert_exporter": "python",
   "pygments_lexer": "ipython3",
   "version": "3.11.7"
  }
 },
 "nbformat": 4,
 "nbformat_minor": 5
}
