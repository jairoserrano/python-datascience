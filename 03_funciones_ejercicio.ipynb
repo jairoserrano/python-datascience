{
 "cells": [
  {
   "cell_type": "markdown",
   "metadata": {},
   "source": [
    "# Convertidor de Monedas para Viajeros\n",
    "\n",
    "### Objetivo: Crear un convertidor de divisas para turistas que visitan diferentes países.\n",
    "\n",
    "### Descripción:\n",
    "\n",
    "- Define funciones para convertir entre distintas monedas (ejemplo de pesos a dolares, o de pesos a euros, a yenes, etc.).\n",
    "- Usa una función principal para recibir la cantidad de dinero en la moneda de origen y convertirla a otra moneda.\n",
    "- Cada función de conversión debe recibir una cantidad en pesos colombianos y devolver la cantidad convertida en la moneda destino."
   ]
  },
  {
   "cell_type": "code",
   "execution_count": 21,
   "metadata": {},
   "outputs": [],
   "source": [
    "VALOR_DEL_DOLAR = 4484\n",
    "VALOR_DEL_EURO = 4738\n",
    "VALOR_DEL_YEN = 28.8"
   ]
  },
  {
   "cell_type": "code",
   "execution_count": null,
   "metadata": {},
   "outputs": [],
   "source": [
    "def convertir_pesos_a_dolares(pesos):\n",
    "    return pesos / VALOR_DEL_DOLAR\n",
    "\n",
    "def convertir_pesos_a_euros(pesos):\n",
    "    return pesos / VALOR_DEL_EURO\n",
    "\n",
    "def convertir_pesos_a_yenes(pesos):\n",
    "    return pesos / VALOR_DEL_YEN\n",
    "\n",
    "def convertir_dolares_a_pesos(dolares):\n",
    "    return dolares * VALOR_DEL_DOLAR\n",
    "\n",
    "def convertir_euros_a_pesos(euros):\n",
    "    return euros * VALOR_DEL_EURO\n",
    "\n",
    "def convertir_yenes_a_pesos(yenes):\n",
    "    return yenes * VALOR_DEL_YEN"
   ]
  },
  {
   "cell_type": "markdown",
   "metadata": {},
   "source": [
    "- Dolares a Pesos\n",
    "- Euros a Pesos\n",
    "- Pesos a Dolares\n",
    "- Pesos a Euros\n",
    "- Yenes a Pesos\n",
    "- Pesos a Yenes"
   ]
  },
  {
   "cell_type": "code",
   "execution_count": 23,
   "metadata": {},
   "outputs": [],
   "source": [
    "def convertidor_de_monedas(valor, moneda_origen, moneda_destino):\n",
    "    if moneda_origen == \"COP\":\n",
    "        if moneda_destino == \"USD\":\n",
    "            return convertir_pesos_a_dolares(valor)\n",
    "        if moneda_destino == \"EUR\":\n",
    "            return convertir_pesos_a_euros(valor)\n",
    "        if moneda_destino == \"YEN\":\n",
    "            return convertir_pesos_a_yenes(valor)\n",
    "    else:\n",
    "        if moneda_origen == \"USD\":\n",
    "            return convertir_dolares_a_pesos(valor)\n",
    "        if moneda_origen == \"EUR\":\n",
    "            return convertir_euros_a_pesos(valor)\n",
    "        if moneda_origen == \"YEN\":\n",
    "            return convertir_yenes_a_pesos(valor)"
   ]
  },
  {
   "cell_type": "code",
   "execution_count": 24,
   "metadata": {},
   "outputs": [
    {
     "data": {
      "text/plain": [
       "28.8"
      ]
     },
     "execution_count": 24,
     "metadata": {},
     "output_type": "execute_result"
    }
   ],
   "source": [
    "convertidor_de_monedas(1, moneda_origen=\"YEN\", moneda_destino=\"COP\")"
   ]
  }
 ],
 "metadata": {
  "kernelspec": {
   "display_name": "Python 3",
   "language": "python",
   "name": "python3"
  },
  "language_info": {
   "codemirror_mode": {
    "name": "ipython",
    "version": 3
   },
   "file_extension": ".py",
   "mimetype": "text/x-python",
   "name": "python",
   "nbconvert_exporter": "python",
   "pygments_lexer": "ipython3",
   "version": "3.13.0"
  }
 },
 "nbformat": 4,
 "nbformat_minor": 2
}
